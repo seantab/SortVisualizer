{
 "cells": [
  {
   "cell_type": "code",
   "execution_count": 1,
   "metadata": {},
   "outputs": [],
   "source": [
    "import pygame, sys, random, sortingAlgorithms, copy, colorsys"
   ]
  },
  {
   "cell_type": "markdown",
   "metadata": {},
   "source": [
    "###       Initialize"
   ]
  },
  {
   "cell_type": "code",
   "execution_count": null,
   "metadata": {},
   "outputs": [],
   "source": [
    "pygame.init()\n",
    "\n",
    "screen = pygame.display.set_mode((1600, 900))\n",
    "\n",
    "\"\"\"Create the background\"\"\"\n",
    "background = pygame.Surface(screen.get_size())\n",
    "background = background.convert()\n",
    "background.fill((0,0,0))\n",
    "\n",
    "pixelSize = 5\n",
    "gridHeight = int((900-20)/pixelSize)\n",
    "gridWidth = int((1600-20)/pixelSize)\n",
    "grid = [[0 for x in range(gridHeight)] for y in range(gridWidth)] \n",
    "sorter = [0 for x in range(gridWidth)] \n",
    "offsetX = 10\n",
    "offsetY = 10\n",
    "\n",
    "sortedLists = []\n",
    "first = True\n",
    "\n",
    "clock = pygame.time.Clock()\n",
    "simulateColorBlindness = False if len(sys.argv) == 2 and sys.argv[1] == \"--no-color\" else True\n",
    "while True:\n",
    "\n",
    "    background.fill(0x000000)\n",
    "    \n",
    "    sortedLists = [False]*len(grid)\n",
    "    sort = sortingAlgorithms.random_sort()\n",
    "    for x in range(len(grid)):\n",
    "        for y in range(len(grid[x])):\n",
    "            grid[x][y] = (y/float(len(grid[x])))\n",
    "        random.shuffle(grid[x])\n",
    "        sorter[x] = sort(grid[x])\n",
    "\n",
    "    lastGrid = copy.deepcopy(grid)\n",
    "\n",
    "    updates = []\n",
    "    for x in range(gridWidth):\n",
    "        for y in range(gridHeight):\n",
    "            col = pygame.Color(0)\n",
    "            if simulateColorBlindness:\n",
    "                col.hsva = (grid[x][y]*360, 100, 90, 100)\n",
    "            else:\n",
    "                col.hsva = (0, 0, grid[x][y]*100, 100)\n",
    "            updates.append(pygame.draw.rect(screen, col, (x*pixelSize+offsetX, y*pixelSize+offsetY, pixelSize, pixelSize)))\n",
    "            lastGrid[x][y] = grid[x][y]\n",
    "    pygame.display.update(updates)\n",
    "    \n",
    "    done = False\n",
    "    while not done:\n",
    "        for event in pygame.event.get():\n",
    "            if event.type == pygame.QUIT: \n",
    "                sys.exit()\n",
    "        updates = []\n",
    "        for x in range(gridWidth):\n",
    "            try:\n",
    "                next(sorter[x])\n",
    "            except StopIteration as e:\n",
    "                sortedLists[x] = True\n",
    "                done = True\n",
    "                for i in sortedLists:\n",
    "                    if i == False:\n",
    "                        done = False\n",
    "                        break\n",
    "            for y in range(gridHeight):\n",
    "                if grid[x][y] != lastGrid[x][y] or first:\n",
    "                    col = pygame.Color(0)\n",
    "                    if simulateColorBlindness:\n",
    "                        col.hsva = (grid[x][y]*360, 100, 90, 100)\n",
    "                    else:\n",
    "                        col.hsva = (0, 0, grid[x][y]*100, 100)\n",
    "                    updates.append(pygame.draw.rect(screen, col, (x*pixelSize+offsetX, y*pixelSize+offsetY, pixelSize, pixelSize)))\n",
    "                    lastGrid[x][y] = grid[x][y]\n",
    "        pygame.display.update(updates)\n",
    "        first = False\n",
    "        #pygame.display.flip()\n",
    "\n",
    "        clock.tick(60)\n",
    "        #print(clock.get_fps())\n",
    "        #screen.blit(background, (0,0))\n"
   ]
  },
  {
   "cell_type": "code",
   "execution_count": 3,
   "metadata": {},
   "outputs": [
    {
     "ename": "KeyboardInterrupt",
     "evalue": "",
     "output_type": "error",
     "traceback": [
      "\u001b[1;31m---------------------------------------------------------------------------\u001b[0m",
      "\u001b[1;31mKeyboardInterrupt\u001b[0m                         Traceback (most recent call last)",
      "\u001b[1;32m<ipython-input-3-36305189bfcc>\u001b[0m in \u001b[0;36m<module>\u001b[1;34m()\u001b[0m\n\u001b[0;32m     48\u001b[0m                     \u001b[1;32melse\u001b[0m\u001b[1;33m:\u001b[0m\u001b[1;33m\u001b[0m\u001b[0m\n\u001b[0;32m     49\u001b[0m                         \u001b[0mcol\u001b[0m\u001b[1;33m.\u001b[0m\u001b[0mhsva\u001b[0m \u001b[1;33m=\u001b[0m \u001b[1;33m(\u001b[0m\u001b[1;36m0\u001b[0m\u001b[1;33m,\u001b[0m \u001b[1;36m0\u001b[0m\u001b[1;33m,\u001b[0m \u001b[0mgrid\u001b[0m\u001b[1;33m[\u001b[0m\u001b[0mx\u001b[0m\u001b[1;33m]\u001b[0m\u001b[1;33m[\u001b[0m\u001b[0my\u001b[0m\u001b[1;33m]\u001b[0m\u001b[1;33m*\u001b[0m\u001b[1;36m100\u001b[0m\u001b[1;33m,\u001b[0m \u001b[1;36m100\u001b[0m\u001b[1;33m)\u001b[0m\u001b[1;33m\u001b[0m\u001b[0m\n\u001b[1;32m---> 50\u001b[1;33m                     \u001b[0mupdates\u001b[0m\u001b[1;33m.\u001b[0m\u001b[0mappend\u001b[0m\u001b[1;33m(\u001b[0m\u001b[0mpygame\u001b[0m\u001b[1;33m.\u001b[0m\u001b[0mdraw\u001b[0m\u001b[1;33m.\u001b[0m\u001b[0mrect\u001b[0m\u001b[1;33m(\u001b[0m\u001b[0mscreen\u001b[0m\u001b[1;33m,\u001b[0m \u001b[0mcol\u001b[0m\u001b[1;33m,\u001b[0m \u001b[1;33m(\u001b[0m\u001b[0mx\u001b[0m\u001b[1;33m*\u001b[0m\u001b[0mpixelSize\u001b[0m\u001b[1;33m+\u001b[0m\u001b[0moffsetX\u001b[0m\u001b[1;33m,\u001b[0m \u001b[0my\u001b[0m\u001b[1;33m*\u001b[0m\u001b[0mpixelSize\u001b[0m\u001b[1;33m+\u001b[0m\u001b[0moffsetY\u001b[0m\u001b[1;33m,\u001b[0m \u001b[0mpixelSize\u001b[0m\u001b[1;33m,\u001b[0m \u001b[0mpixelSize\u001b[0m\u001b[1;33m)\u001b[0m\u001b[1;33m)\u001b[0m\u001b[1;33m)\u001b[0m\u001b[1;33m\u001b[0m\u001b[0m\n\u001b[0m\u001b[0;32m     51\u001b[0m                     \u001b[0mlastGrid\u001b[0m\u001b[1;33m[\u001b[0m\u001b[0mx\u001b[0m\u001b[1;33m]\u001b[0m\u001b[1;33m[\u001b[0m\u001b[0my\u001b[0m\u001b[1;33m]\u001b[0m \u001b[1;33m=\u001b[0m \u001b[0mgrid\u001b[0m\u001b[1;33m[\u001b[0m\u001b[0mx\u001b[0m\u001b[1;33m]\u001b[0m\u001b[1;33m[\u001b[0m\u001b[0my\u001b[0m\u001b[1;33m]\u001b[0m\u001b[1;33m\u001b[0m\u001b[0m\n\u001b[0;32m     52\u001b[0m         \u001b[0mpygame\u001b[0m\u001b[1;33m.\u001b[0m\u001b[0mdisplay\u001b[0m\u001b[1;33m.\u001b[0m\u001b[0mupdate\u001b[0m\u001b[1;33m(\u001b[0m\u001b[0mupdates\u001b[0m\u001b[1;33m)\u001b[0m\u001b[1;33m\u001b[0m\u001b[0m\n",
      "\u001b[1;31mKeyboardInterrupt\u001b[0m: "
     ]
    }
   ],
   "source": []
  },
  {
   "cell_type": "code",
   "execution_count": null,
   "metadata": {
    "collapsed": true
   },
   "outputs": [],
   "source": []
  }
 ],
 "metadata": {
  "kernelspec": {
   "display_name": "Python 3",
   "language": "python",
   "name": "python3"
  },
  "language_info": {
   "codemirror_mode": {
    "name": "ipython",
    "version": 3
   },
   "file_extension": ".py",
   "mimetype": "text/x-python",
   "name": "python",
   "nbconvert_exporter": "python",
   "pygments_lexer": "ipython3",
   "version": "3.5.4"
  }
 },
 "nbformat": 4,
 "nbformat_minor": 2
}
